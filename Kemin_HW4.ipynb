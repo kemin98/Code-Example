{
 "cells": [
  {
   "cell_type": "markdown",
   "metadata": {},
   "source": [
    "Name: Kemin Wang"
   ]
  },
  {
   "cell_type": "code",
   "execution_count": 1,
   "metadata": {},
   "outputs": [],
   "source": [
    "import pandas as pd\n",
    "import matplotlib.pyplot as plt\n",
    "import geopandas\n",
    "import os\n",
    "import pycountry\n",
    "import datetime\n",
    "import pandas_datareader.data as web\n",
    "from pandas_datareader import wb\n",
    "import us\n",
    "from ipywidgets import interact, interact_manual"
   ]
  },
  {
   "cell_type": "markdown",
   "metadata": {},
   "source": [
    "Here I define in the global space some variables/api dictionaries. Users can add more variables of interest later on for retrieving data."
   ]
  },
  {
   "cell_type": "code",
   "execution_count": 2,
   "metadata": {},
   "outputs": [],
   "source": [
    "shp_path = r'C:\\Users\\Kemin\\Documents\\GitHub\\homework-4-kemin98-1\\ne_110m_admin_1_states_provinces.shp'\n",
    "fred_api_dict = {'population':'POP', 'unemployment':'URN'}\n",
    "wb_api_dict = {'population':'SP.POP.TOTL', 'unemployment':'SL.UEM.TOTL.NE.ZS', 'SP.POP.TOTL': 'population', 'SL.UEM.TOTL.NE.ZS':'unemployment'}"
   ]
  },
  {
   "cell_type": "markdown",
   "metadata": {},
   "source": [
    "This function gets the global map with low resolution"
   ]
  },
  {
   "cell_type": "code",
   "execution_count": 3,
   "metadata": {},
   "outputs": [],
   "source": [
    "def get_continent_shp(continent):\n",
    "    world = geopandas.read_file(geopandas.datasets.get_path('naturalearth_lowres'))\n",
    "    world = world.drop(columns=['pop_est', 'gdp_md_est'])\n",
    "    continent_df = world[world['continent'] == continent]\n",
    "    return continent_df"
   ]
  },
  {
   "cell_type": "markdown",
   "metadata": {},
   "source": [
    "This function gets all the continents for future filtering purposes"
   ]
  },
  {
   "cell_type": "code",
   "execution_count": 4,
   "metadata": {},
   "outputs": [],
   "source": [
    "def get_all_continents():\n",
    "    world = geopandas.read_file(geopandas.datasets.get_path('naturalearth_lowres'))\n",
    "    return world['continent'].unique()\n",
    "    "
   ]
  },
  {
   "cell_type": "markdown",
   "metadata": {},
   "source": [
    "I get this code from https://stackoverflow.com/questions/16253060/how-to-convert-country-names-to-iso-3166-1-alpha-2-values-using-python. I learn to use the pycountry package to get alpha 2 code.\n"
   ]
  },
  {
   "cell_type": "code",
   "execution_count": 5,
   "metadata": {},
   "outputs": [],
   "source": [
    "def get_country_codes(continent_df):\n",
    "    country_list = continent_df['iso_a3']\n",
    "    \n",
    "    input_countries = country_list\n",
    "\n",
    "    countries = {}\n",
    "    for country in pycountry.countries:\n",
    "        countries[country.alpha_3] = country.alpha_2\n",
    "\n",
    "    codes = [countries.get(country, 'Unknown code') for country in input_countries]\n",
    "    \n",
    "    return codes\n",
    "    "
   ]
  },
  {
   "cell_type": "markdown",
   "metadata": {},
   "source": [
    "This function retrieves data from the worldbank and then performs country name normalization. It can get as many variables as we want"
   ]
  },
  {
   "cell_type": "code",
   "execution_count": 6,
   "metadata": {},
   "outputs": [],
   "source": [
    "def get_wb(continent_df, variables, year, codes):\n",
    "    \n",
    "    indicator = [wb_api_dict[variable] for variable in variables]\n",
    "\n",
    "    df_wb = wb.download(indicator=indicator, \n",
    "                     country=codes, \n",
    "                     start=year, end=year)\n",
    "\n",
    "    df_wb = df_wb.rename(columns=wb_api_dict)\n",
    "    df_wb = df_wb.reset_index()\n",
    "    df_wb['country'] = df_wb['country'].map(cname_converter)  \n",
    "    return df_wb\n",
    "    "
   ]
  },
  {
   "cell_type": "markdown",
   "metadata": {},
   "source": [
    "This function normalizes all the names in the country column. This can be updated for more countries if we need to in the future"
   ]
  },
  {
   "cell_type": "code",
   "execution_count": 7,
   "metadata": {},
   "outputs": [],
   "source": [
    "def cname_converter(cname):\n",
    "    \n",
    "    if cname == 'Bahamas, The':\n",
    "        return 'Bahamas'\n",
    "    elif cname == 'Dominican Republic':\n",
    "        return 'Dominican Rep.'\n",
    "    elif cname == 'United States':\n",
    "        return 'United States of America'\n",
    "    else:\n",
    "        return cname"
   ]
  },
  {
   "cell_type": "markdown",
   "metadata": {},
   "source": [
    "This function merges the continent dataframe with the data from world bank"
   ]
  },
  {
   "cell_type": "code",
   "execution_count": 8,
   "metadata": {},
   "outputs": [],
   "source": [
    "def merge_wb_data(continent_df, variables, year, codes):\n",
    "    df_wb = get_wb(continent_df, variables, year, codes)\n",
    "    continent_df = continent_df.merge(df_wb, left_on='name', right_on='country', how='left')\n",
    "    return continent_df"
   ]
  },
  {
   "cell_type": "markdown",
   "metadata": {},
   "source": [
    "This function reads the states and province shapfile"
   ]
  },
  {
   "cell_type": "code",
   "execution_count": 9,
   "metadata": {},
   "outputs": [],
   "source": [
    "def get_sap_shp():\n",
    "    sap = geopandas.read_file(shp_path)\n",
    "    return sap"
   ]
  },
  {
   "cell_type": "markdown",
   "metadata": {},
   "source": [
    "This function retrieves data from the fred. This function can retrieve as many variables as we want in a specific given year"
   ]
  },
  {
   "cell_type": "code",
   "execution_count": 10,
   "metadata": {},
   "outputs": [],
   "source": [
    "def get_fred_data(variables):\n",
    "    start = f'{year}-01'\n",
    "    end = f'{year}-01'\n",
    "    us_multi_series = []\n",
    "    for variable in variables:\n",
    "        series_name = [st.abbr+fred_api_dict[variable] for st in us.STATES]\n",
    "        us_data = web.DataReader(series_name, 'fred', start, end)\n",
    "        us_data.columns = [s[:2] for s in us_data]\n",
    "        us_data = us_data.T\n",
    "        us_data = us_data.reset_index().rename(columns={'index':'state', datetime.datetime(year, 1, 1):variable})\n",
    "        us_multi_series.append(us_data)\n",
    "    \n",
    "    fred_data = us_multi_series[0]\n",
    "    \n",
    "    for series in us_multi_series[1:]: \n",
    "        fred_data = fred_data.merge(series, on='state')\n",
    "\n",
    "    fred_data['state'] = fred_data['state'].map(lambda s: 'US-'+s)\n",
    "    \n",
    "    return fred_data\n",
    "        "
   ]
  },
  {
   "cell_type": "markdown",
   "metadata": {},
   "source": [
    "This function merges the narrowed-down states and provinces shapefile with fred data"
   ]
  },
  {
   "cell_type": "code",
   "execution_count": 11,
   "metadata": {},
   "outputs": [],
   "source": [
    "def merge_states_and_series(sap, fred_data):\n",
    "    country_df = sap[sap['iso_a2'] == 'US']\n",
    "    country_df = country_df.merge(fred_data, left_on='iso_3166_2', right_on='state', how='left')\n",
    "        \n",
    "    return country_df\n",
    "    "
   ]
  },
  {
   "cell_type": "markdown",
   "metadata": {},
   "source": [
    "This function concats the merged continent dataframe and the merged states and provinces shapfile together"
   ]
  },
  {
   "cell_type": "code",
   "execution_count": 12,
   "metadata": {},
   "outputs": [],
   "source": [
    "def concat_continent_and_country(continent_df, country_df):\n",
    "    final_df = pd.concat([continent_df, country_df])\n",
    "    return final_df"
   ]
  },
  {
   "cell_type": "markdown",
   "metadata": {},
   "source": [
    "This functions helps change the dataframe used when doing interactive plotting"
   ]
  },
  {
   "cell_type": "code",
   "execution_count": 13,
   "metadata": {},
   "outputs": [],
   "source": [
    "def continent_or_states (df_final, areas):\n",
    "    if areas in continents:\n",
    "        df_final = df_final[df_final['continent']==areas]\n",
    "        return df_final\n",
    "    else:\n",
    "        df_final = df_final[df_final['state'].str.startswith(areas, na=False)]\n",
    "        return df_final"
   ]
  },
  {
   "cell_type": "markdown",
   "metadata": {},
   "source": [
    "This functions prepares for the ultimate dataframe used in interactive plotting. I have included the part starting with 'if 'US' in areas'. This part will take care of US data if US is one of the countires in 'areas'/we want to investigate. But we can also create other 'if xx in areas' parts for different countries in this section if we want to see more countires on the plot."
   ]
  },
  {
   "cell_type": "code",
   "execution_count": 14,
   "metadata": {},
   "outputs": [],
   "source": [
    "def prepare_for_interactive(continent='North America'):\n",
    "    continent_df = get_continent_shp(continent=continent)\n",
    "    codes = get_country_codes(continent_df)\n",
    "    df_wb = get_wb(continent_df, variables, year, codes)\n",
    "    continent_df = merge_wb_data(continent_df, variables, year, codes)\n",
    "    sap = get_sap_shp()\n",
    "    if 'US' in areas:\n",
    "        fred_data = get_fred_data(variables)\n",
    "        country_df = merge_states_and_series(sap, fred_data)\n",
    "    df_final = concat_continent_and_country(continent_df,country_df)\n",
    "    return df_final\n",
    "   "
   ]
  },
  {
   "cell_type": "markdown",
   "metadata": {},
   "source": [
    "Define the inputs, which can be freely changed by users. Since my plot demonstrates the data in a static given year, the year variable is a integer not a list.  "
   ]
  },
  {
   "cell_type": "code",
   "execution_count": 15,
   "metadata": {},
   "outputs": [],
   "source": [
    "variables = ['population', 'unemployment']\n",
    "year = 2012\n",
    "areas = ['North America', 'US']\n",
    "continents = get_all_continents()"
   ]
  },
  {
   "cell_type": "markdown",
   "metadata": {},
   "source": [
    "Make df_final a global variable easy for interactive plotting"
   ]
  },
  {
   "cell_type": "code",
   "execution_count": 16,
   "metadata": {
    "scrolled": true
   },
   "outputs": [],
   "source": [
    "df_final = prepare_for_interactive(continent='North America')"
   ]
  },
  {
   "cell_type": "markdown",
   "metadata": {},
   "source": [
    "Perform interactive plotting. Change the color the plasma."
   ]
  },
  {
   "cell_type": "code",
   "execution_count": 17,
   "metadata": {},
   "outputs": [
    {
     "data": {
      "application/vnd.jupyter.widget-view+json": {
       "model_id": "419aae90eaa04434abaa5bf3986579c3",
       "version_major": 2,
       "version_minor": 0
      },
      "text/plain": [
       "interactive(children=(Dropdown(description='areas', options=('North America', 'US'), value='North America'), D…"
      ]
     },
     "metadata": {},
     "output_type": "display_data"
    }
   ],
   "source": [
    "@interact(areas=areas, variables=variables)\n",
    "def plot(areas=areas[0], variables=variables[0]):\n",
    "    global df_final\n",
    "    df_interactive = continent_or_states(df_final, areas)\n",
    "    fig, ax = plt.subplots(figsize=(12,12))\n",
    "\n",
    "    from mpl_toolkits.axes_grid1 import make_axes_locatable\n",
    "    divider = make_axes_locatable(ax)\n",
    "    cax = divider.append_axes('right', size='5%', pad=0.1)\n",
    "    ax = df_interactive.plot(ax=ax, column=variables, legend=True, cax=cax, cmap='plasma')\n",
    "    ax.axis('off')\n",
    "    ax.set_title(f'{variables} in {areas} during {year}')"
   ]
  },
  {
   "cell_type": "markdown",
   "metadata": {},
   "source": [
    "In this project I have used a small portion of my code in HW3, mostly in the interactive plotting part relying on ipywidgets. I will be very likely to use this code for my final project since this code is generalizable. Users can choose to plot other countires' states level data by importing those countries' shapfiles and data series while making little changes to the structure of the code. For continent level plot, this code is highly generalizable. Users can change the continent directly through inputs and retrive relavent data from the world bank. My final project involves a plotting on the population by each state in US betweem 2009-2011, therefore this code would be highly useful and I can do a interactive plot with respect to different years. "
   ]
  }
 ],
 "metadata": {
  "kernelspec": {
   "display_name": "Python 3",
   "language": "python",
   "name": "python3"
  },
  "language_info": {
   "codemirror_mode": {
    "name": "ipython",
    "version": 3
   },
   "file_extension": ".py",
   "mimetype": "text/x-python",
   "name": "python",
   "nbconvert_exporter": "python",
   "pygments_lexer": "ipython3",
   "version": "3.8.5"
  }
 },
 "nbformat": 4,
 "nbformat_minor": 4
}
